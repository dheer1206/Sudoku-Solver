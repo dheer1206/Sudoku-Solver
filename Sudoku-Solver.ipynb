{
 "cells": [
  {
   "cell_type": "markdown",
   "metadata": {},
   "source": [
    "### Making the necessary imports"
   ]
  },
  {
   "cell_type": "code",
   "execution_count": 1,
   "metadata": {},
   "outputs": [],
   "source": [
    "import cv2\n",
    "import numpy as np\n",
    "import pandas as pd\n",
    "\n",
    "from collections import Counter"
   ]
  },
  {
   "cell_type": "markdown",
   "metadata": {},
   "source": [
    "### Function to display an image"
   ]
  },
  {
   "cell_type": "code",
   "execution_count": 2,
   "metadata": {},
   "outputs": [],
   "source": [
    "def display(img) :\n",
    "    screen_res = 1280, 720\n",
    "    scale_width = screen_res[0] / img.shape[1]\n",
    "    scale_height = screen_res[1] / img.shape[0]\n",
    "    scale = min(scale_width, scale_height)\n",
    "    window_width = int(img.shape[1] * scale) \n",
    "    window_height = int(img.shape[0] * scale)\n",
    "\n",
    "    cv2.namedWindow('dst_rt', cv2.WINDOW_NORMAL)\n",
    "    cv2.resizeWindow('dst_rt', window_width, window_height)\n",
    "\n",
    "    cv2.imshow('dst_rt', img)\n",
    "    cv2.waitKey(0)\n",
    "    cv2.destroyAllWindows()"
   ]
  },
  {
   "cell_type": "markdown",
   "metadata": {},
   "source": [
    "## Best settings found for square detection so far"
   ]
  },
  {
   "cell_type": "code",
   "execution_count": 3,
   "metadata": {},
   "outputs": [],
   "source": [
    "image = cv2.imread(\"sample_input.jpeg\")\n",
    "gray_image = cv2.cvtColor( image , cv2.COLOR_BGR2GRAY )\n",
    "gray_image_blurred = cv2.GaussianBlur(gray_image,(13,13),0)\n",
    "\n",
    "thresh = cv2.adaptiveThreshold(gray_image_blurred,255,1,1,11,2)\n",
    "\n",
    "display(thresh)\n",
    "\n",
    "#invert\n",
    "#bw_image = 255 - bw_image"
   ]
  },
  {
   "cell_type": "markdown",
   "metadata": {},
   "source": [
    "## Finding Contours"
   ]
  },
  {
   "cell_type": "code",
   "execution_count": 4,
   "metadata": {},
   "outputs": [],
   "source": [
    "im2, contours, hierarchy = cv2.findContours(thresh.copy(), cv2.RETR_TREE, cv2.CHAIN_APPROX_SIMPLE)"
   ]
  },
  {
   "cell_type": "code",
   "execution_count": 5,
   "metadata": {},
   "outputs": [
    {
     "name": "stdout",
     "output_type": "stream",
     "text": [
      "Total no. of contours found in image are  370\n"
     ]
    }
   ],
   "source": [
    "print (\"Total no. of contours found in image are \" , str(len(contours)))"
   ]
  },
  {
   "cell_type": "markdown",
   "metadata": {},
   "source": [
    "### Finding The Largest Contour"
   ]
  },
  {
   "cell_type": "code",
   "execution_count": 6,
   "metadata": {},
   "outputs": [],
   "source": [
    "biggest = None\n",
    "max_area = 0\n",
    "idi = None\n",
    "idid,c = -1,0\n",
    "\n",
    "for i in contours:\n",
    "        area = cv2.contourArea(i) # Area of the contour\n",
    "        if area > 100:\n",
    "                peri = cv2.arcLength(i,True)  # Perimeter of the contour\n",
    "                approx = cv2.approxPolyDP(i,0.02*peri,True) #Dimensions of the countour\n",
    "                \n",
    "                # (Top-Left X , Top-Left Y, Width, Height)\n",
    "                (x, y, w, h) = cv2.boundingRect(approx) \n",
    "                \n",
    "                #ratio to check whether the rectangle is a square or not\n",
    "                #If it's a square , then ratio should be between 0.95 and 1.05\n",
    "                ratio = w / float(h)\n",
    "                \n",
    "                if area > max_area and len(approx)==4 and ratio >= 0.90 and ratio <= 1.10 :\n",
    "                        biggest = approx\n",
    "                        max_area = area #Store the area of the largest contour\n",
    "                        idi = i\n",
    "                        idid = c #Stores the id of the largest contour\n",
    "                        \n",
    "                        \n",
    "        c += 1                "
   ]
  },
  {
   "cell_type": "markdown",
   "metadata": {},
   "source": [
    "### Plotting the largest contour"
   ]
  },
  {
   "cell_type": "code",
   "execution_count": 9,
   "metadata": {},
   "outputs": [
    {
     "name": "stdout",
     "output_type": "stream",
     "text": [
      "(29, 209, 662, 662)\n"
     ]
    }
   ],
   "source": [
    "image2 = image.copy()\n",
    "(x,y,w,h) = cv2.boundingRect(biggest)\n",
    "print (cv2.boundingRect(biggest))\n",
    "cv2.rectangle(image2,(x,y),(x+w-1,y+h-1),(0,0,255),5)\n",
    "\n",
    "w_small = w / 9.0\n",
    "h_small = h / 9.0\n",
    "\n",
    "squares = []\n",
    "\n",
    "for i in range(9) :\n",
    "    row_squares = []\n",
    "    for j in range(9) :\n",
    "        #Vertical Lines\n",
    "        x_first = x + int(round(i*w_small,3)) \n",
    "        y_first = y + int(round(j*h_small,3)) \n",
    "\n",
    "        x_end = x + int(round((i+1)*w_small,3)) \n",
    "        y_end = y + int(round((j+1)*h_small,3))\n",
    "        \n",
    "        #if (i % 3 == 0 and j % 3 == 0) :\n",
    "        #cv2.rectangle(image2,(x_first,y_first),(x_end,y_end),(0,0,255),5)\n",
    "        \n",
    "        row_squares.append((x_first,y_first,x_end,y_end))\n",
    "        \n",
    "    squares.append(row_squares)\n",
    "    \n",
    "    \n",
    "    \n",
    "\n",
    "#cv2.drawContours(image2, contours, idid, (0,0,255), 5)\n",
    "display(image2)"
   ]
  },
  {
   "cell_type": "markdown",
   "metadata": {},
   "source": [
    "## Model Part"
   ]
  },
  {
   "cell_type": "code",
   "execution_count": 10,
   "metadata": {},
   "outputs": [],
   "source": [
    "train_data = pd.read_csv(\"train.csv\", encoding = \"UTF-8\")\n",
    "\n",
    "train_features = np.array(train_data)[:,1:]\n",
    "labels = np.array(train_data)[:,:1]\n",
    "\n",
    "train_features = train_features * ( 1.0 / 255.0 )\n",
    "\n",
    "train_features[train_features > 0.0] = 1.0"
   ]
  },
  {
   "cell_type": "code",
   "execution_count": 11,
   "metadata": {},
   "outputs": [],
   "source": [
    "#Contours_map stores the number of all-zeroes reigons in each digit\n",
    "#contours_map[i] = Number of all-zeroes reigons in the digit i\n",
    "contours_map = [2,1,1,1,2,1,2,1,3,2]"
   ]
  },
  {
   "cell_type": "markdown",
   "metadata": {},
   "source": [
    "### K-Nearest Neighbours Model Class"
   ]
  },
  {
   "cell_type": "code",
   "execution_count": 12,
   "metadata": {},
   "outputs": [],
   "source": [
    "class KNN() :\n",
    "    \n",
    "    def __init__(self,number_of_neighbours = 1) :\n",
    "        #Storing the number of neighbours or K\n",
    "        self.number_of_neighbours = number_of_neighbours\n",
    "    \n",
    "    #Training the Model\n",
    "    def train(self,x_train,y_train) :\n",
    "        self.x_train = x_train \n",
    "        self.y_train = y_train\n",
    "    \n",
    "    #Compute The Distances array\n",
    "    #Distances array Contains the difference of this image from all other images in the training set\n",
    "    def computeDistances(self,test) :\n",
    "        \n",
    "        #Here We'll use the L2 Distance or the Euclidean Distance\n",
    "        \n",
    "        #First We'll subtract the matrices\n",
    "        difference = self.x_train - test\n",
    "        \n",
    "        #Then We'll square the difference matrix\n",
    "        squared_difference = np.square( difference )\n",
    "        \n",
    "        #Then We'll add the squared_difference matrix rowwise\n",
    "        summed_square_difference = np.sum( squared_difference , axis = 1 )\n",
    "        \n",
    "        #Finally We'll take the square Root\n",
    "        differences = np.sqrt(summed_square_difference)\n",
    "        \n",
    "        return differences\n",
    "    \n",
    "    \n",
    "    def predict(self,x_test,cc) :\n",
    "        \n",
    "        num_test = x_test.shape[0]\n",
    "        \n",
    "        final_output = np.zeros(num_test)\n",
    "        \n",
    "        for i in range(num_test) :\n",
    "            \n",
    "            #Getting the differences array\n",
    "            differences = self.computeDistances( x_test[i] )\n",
    "            \n",
    "            #Sorting The differences array in reverse order\n",
    "            sorted_differences = np.argsort( differences )\n",
    "            \n",
    "            #Slicing the first K(number_of_neighbours) values from the differences array\n",
    "            first_k_differences = sorted_differences[:self.number_of_neighbours]\n",
    "            \n",
    "            #Checking whether the selected digit contains correct no. of all-zeroes reigons\n",
    "            #according to our contour map\n",
    "            c = 0 \n",
    "            labels = []\n",
    "            for j in sorted_differences :\n",
    "                val = int(self.y_train[j]) \n",
    "                if (contours_map[val] != cc) :\n",
    "                    continue \n",
    "                c += 1\n",
    "                labels.append(val)\n",
    "                if (c == self.number_of_neighbours) :\n",
    "                    break\n",
    "            \n",
    "            #Getting the output Labels of each element in differences array\n",
    "            #print (labels)\n",
    "            \n",
    "           \n",
    "            \n",
    "            #Dictionary Storing the count of each digit or label\n",
    "            count_dict = Counter(labels)\n",
    "            \n",
    "            #Now We Need to find the most repated label out of these K-labels \n",
    "            #If there are multiple labels with the same count , then\n",
    "            #We select the one which appears first in the labels list\n",
    "            \n",
    "            #Maxi stores the count of label that occurs maximum times\n",
    "            maxi = 0 \n",
    "            #The Selected Label\n",
    "            selected_digit = None\n",
    "            \n",
    "            for j in range(self.number_of_neighbours) :\n",
    "                \n",
    "                label = labels[j]\n",
    "                \n",
    "                if count_dict[label] > maxi :\n",
    "                    maxi = count_dict[label]\n",
    "                    selected_digit = label\n",
    "            \n",
    "            final_output[i] = selected_digit\n",
    "            \n",
    "        return list(final_output)        "
   ]
  },
  {
   "cell_type": "code",
   "execution_count": 13,
   "metadata": {},
   "outputs": [],
   "source": [
    "#Creating our KNN model where value of k (number of neighbours) = 10\n",
    "final_model = KNN(10) \n",
    "final_model.train( train_features, labels )"
   ]
  },
  {
   "cell_type": "markdown",
   "metadata": {},
   "source": [
    "### Extra Check functions for certain group of digits"
   ]
  },
  {
   "cell_type": "code",
   "execution_count": 14,
   "metadata": {},
   "outputs": [],
   "source": [
    "def get_contours(img) :\n",
    "    im2, contours, hierarchy = cv2.findContours(img, cv2.RETR_TREE, cv2.CHAIN_APPROX_SIMPLE)\n",
    "    return int(len(contours))"
   ]
  },
  {
   "cell_type": "code",
   "execution_count": 15,
   "metadata": {},
   "outputs": [],
   "source": [
    "# This function classifies whether given digit is 1 or 7\n",
    "\n",
    "def check17(img) :\n",
    "    #print (\"in \" , img.shape)\n",
    "    #check for 4\n",
    "    low , high, col = 30 , -1 , None \n",
    "    for i in range(28) :\n",
    "        for j in range(28) :\n",
    "            if img[i,j]:\n",
    "                low = min(low,i)\n",
    "                high = max(high,i)\n",
    "    \n",
    "    for j in range(28) :\n",
    "        if img[low,j] == 1 and img[high,j] == 1 :\n",
    "            check = True\n",
    "            for i in range(low,high+1) :\n",
    "                if (img[i,j] != 1) :\n",
    "                    check = False \n",
    "            if check :\n",
    "                return 1\n",
    "    return 7    "
   ]
  },
  {
   "cell_type": "code",
   "execution_count": 16,
   "metadata": {},
   "outputs": [],
   "source": [
    "# This function classifies whether given digit is 4 or 9 or 6\n",
    "\n",
    "def check496(img) :\n",
    "    #print (\"in \" , img.shape)\n",
    "    #check for 4\n",
    "    low , high, col = 30 , -1 , None \n",
    "    for i in range(28) :\n",
    "        for j in range(28) :\n",
    "            if img[i,j]:\n",
    "                low = min(low,i)\n",
    "                high = max(high,i)\n",
    "    #print (low,high)\n",
    "    for j in range(28) :\n",
    "        if img[low,j] == 1 and img[high,j] == 1 :\n",
    "            #print (\"in\",j)\n",
    "            check = True\n",
    "            for i in range(low,high+1) :\n",
    "                if (img[i,j] != 1) :\n",
    "                    check = False \n",
    "            if check :\n",
    "                return 4\n",
    "    change = 0 \n",
    "    for j in range(27) :\n",
    "        if img[19,j] != img[19,j+1] and img[19,j+1] == 1 :\n",
    "            change += 1\n",
    "    if (change == 2) :\n",
    "        return 6\n",
    "    return 9   "
   ]
  },
  {
   "cell_type": "markdown",
   "metadata": {},
   "source": [
    "### Actually Classifying the digits"
   ]
  },
  {
   "cell_type": "code",
   "execution_count": 17,
   "metadata": {},
   "outputs": [],
   "source": [
    "conto = [[0] * 9]*9"
   ]
  },
  {
   "cell_type": "code",
   "execution_count": 18,
   "metadata": {},
   "outputs": [
    {
     "name": "stdout",
     "output_type": "stream",
     "text": [
      "Done Row 1\n",
      "Done Row 2\n",
      "Done Row 3\n",
      "Done Row 4\n",
      "Done Row 5\n",
      "Done Row 6\n",
      "Done Row 7\n",
      "Done Row 8\n",
      "Done Row 9\n"
     ]
    }
   ],
   "source": [
    "from math import ceil\n",
    "sudoku = []\n",
    "\n",
    "small = None\n",
    "\n",
    "ratios = int(w_small / 7.0)\n",
    "\n",
    "\n",
    "for i in range(9) :\n",
    "    row = []\n",
    "    for j in range(9) :\n",
    "        \n",
    "        x_start,y_start,x_end,y_end = squares[i][j]\n",
    "        \n",
    "        block2 = thresh[y_start+ratios:y_end-(ratios-1),x_start+ratios:x_end-(ratios-1)]\n",
    "        block2[block2 == 255] = 1.0\n",
    "        block2[block2 == 0] = 0.0\n",
    "        \n",
    "        block2 = cv2.resize( block2 , (28,28))\n",
    "        block_temp = block2\n",
    "       \n",
    "        \n",
    "        for k in range(28) :\n",
    "            for l in range(28) :\n",
    "                if k <= 2 or l <= 2 or k >= 25 or l >= 25 :\n",
    "                    block2[k,l] = 0\n",
    "        \n",
    "        temp = np.sum(np.sum(block2))\n",
    "        if (temp == 0) :\n",
    "            row.append(0) \n",
    "            continue \n",
    "        \n",
    "        conto[i][j] = get_contours(block2)\n",
    "        \n",
    "        block2 = block2.flatten()\n",
    "        \n",
    "        \n",
    "        temp_l = [block2]\n",
    "        temp_l = np.array(temp_l)\n",
    "        \n",
    "        \n",
    "        out = final_model.predict(temp_l,conto[i][j])\n",
    "        #out = [0]\n",
    "        val = int(out[0])\n",
    "        if (val == 7 or val == 1) :\n",
    "            val = check17(block_temp)\n",
    "        elif (val == 9 or val == 4 or val == 6) :\n",
    "            val = check496(block_temp)\n",
    "    \n",
    "       \n",
    "        row.append(val)\n",
    "        \n",
    "    sudoku.append(row)\n",
    "    print (\"Done Row \" + str(i+1))\n",
    "    \n",
    "    \n"
   ]
  },
  {
   "cell_type": "code",
   "execution_count": 19,
   "metadata": {},
   "outputs": [
    {
     "data": {
      "text/plain": [
       "'\\n#Debug script to print a particular sudoku subgrid\\nx_start,y_start,x_end,y_end = squares[1][5]\\n\\nblock_temp = thresh[y_start:y_end,x_start:x_end]\\n\\nprint (block_temp.shape)\\n\\nblock2 = thresh[y_start+ratios:y_end-(ratios-1),x_start+ratios:x_end-(ratios-1)]\\nblock2[block2 == 255] = 1.0\\nblock2[block2 == 0] = 0.0\\n        \\nblock2 = cv2.resize( block2 , (28,28))\\nblock_temp = block2\\n       \\n        \\nfor k in range(28) :\\n    for l in range(28) :\\n        if k <= 2 or l <= 2 or k >= 25 or l >= 25 :\\n            block2[k,l] = 0\\nprint (block2)\\nprint (ratios)\\n'"
      ]
     },
     "execution_count": 19,
     "metadata": {},
     "output_type": "execute_result"
    }
   ],
   "source": [
    "\"\"\"\n",
    "#Debug script to print a particular sudoku subgrid\n",
    "x_start,y_start,x_end,y_end = squares[1][5]\n",
    "\n",
    "block_temp = thresh[y_start:y_end,x_start:x_end]\n",
    "\n",
    "print (block_temp.shape)\n",
    "\n",
    "block2 = thresh[y_start+ratios:y_end-(ratios-1),x_start+ratios:x_end-(ratios-1)]\n",
    "block2[block2 == 255] = 1.0\n",
    "block2[block2 == 0] = 0.0\n",
    "        \n",
    "block2 = cv2.resize( block2 , (28,28))\n",
    "block_temp = block2\n",
    "       \n",
    "        \n",
    "for k in range(28) :\n",
    "    for l in range(28) :\n",
    "        if k <= 2 or l <= 2 or k >= 25 or l >= 25 :\n",
    "            block2[k,l] = 0\n",
    "print (block2)\n",
    "print (ratios)\n",
    "\"\"\""
   ]
  },
  {
   "cell_type": "markdown",
   "metadata": {},
   "source": [
    "### Printing the classified sudoku image"
   ]
  },
  {
   "cell_type": "code",
   "execution_count": 20,
   "metadata": {},
   "outputs": [
    {
     "name": "stdout",
     "output_type": "stream",
     "text": [
      "[[0 3 1 6 0 7 0 0 0]\n",
      " [6 0 0 8 0 0 2 5 7]\n",
      " [8 0 0 0 9 0 0 0 3]\n",
      " [4 0 0 0 0 0 8 3 2]\n",
      " [0 1 0 0 0 9 0 0 0]\n",
      " [7 0 3 2 4 0 0 0 0]\n",
      " [0 0 2 4 0 1 0 7 8]\n",
      " [0 8 5 0 0 0 0 0 9]\n",
      " [3 0 4 0 0 0 0 6 1]]\n"
     ]
    }
   ],
   "source": [
    "sudoku = np.array(sudoku).T\n",
    "grid = sudoku.tolist()\n",
    "grid2 = sudoku.tolist() \n",
    "print (sudoku)"
   ]
  },
  {
   "cell_type": "markdown",
   "metadata": {
    "scrolled": true
   },
   "source": [
    "### Sudoku Solver using BackTracking"
   ]
  },
  {
   "cell_type": "code",
   "execution_count": 21,
   "metadata": {},
   "outputs": [],
   "source": [
    "def get_unassigned_loc() :\n",
    "    global grid\n",
    "    for i in range(9) :\n",
    "        for j in range(9) :\n",
    "            if (grid[i][j] == 0) :\n",
    "                return i,j\n",
    "    return -1,-1"
   ]
  },
  {
   "cell_type": "code",
   "execution_count": 22,
   "metadata": {},
   "outputs": [],
   "source": [
    "def check(row,col) :\n",
    "    #Check Row\n",
    "    global grid\n",
    "    freq = [0 for i in range(10)]\n",
    "    for j in range(9) :\n",
    "        if (grid[row][j] != 0) :\n",
    "            freq[grid[row][j]] += 1\n",
    "            if (freq[grid[row][j]] == 2) :\n",
    "                return False\n",
    "    \n",
    "    #Check Col\n",
    "    freq = [0 for i in range(10)]\n",
    "    for j in range(9) :\n",
    "        if (grid[j][col] != 0) :\n",
    "            freq[grid[j][col]] += 1\n",
    "            if (freq[grid[j][col]] == 2) :\n",
    "                return False\n",
    "    \n",
    "    #Check Grid\n",
    "    grow , gcol = int(row/3), int(col/3)\n",
    "    freq = [0 for i in range(10)]\n",
    "    for i in range(grow*3 , grow*3+3) :\n",
    "        for j in range(gcol*3 , gcol*3+3) :\n",
    "            if (grid[i][j] != 0) :\n",
    "                freq[grid[i][j]] += 1\n",
    "                if (freq[grid[i][j]] == 2) :\n",
    "                    return False\n",
    "                \n",
    "    return True        "
   ]
  },
  {
   "cell_type": "code",
   "execution_count": 23,
   "metadata": {},
   "outputs": [],
   "source": [
    "def solve() :\n",
    "    global grid\n",
    "    row,col = get_unassigned_loc()\n",
    "    if (row+col==-2) :\n",
    "        return True\n",
    "    \n",
    "    for num in range(1,10) :\n",
    "        grid[row][col] = num \n",
    "        if (check(row,col) == False) :\n",
    "            grid[row][col] = 0\n",
    "            continue \n",
    "        \n",
    "        if (solve()) :\n",
    "            return True\n",
    "        grid[row][col] = 0 \n",
    "    return False   "
   ]
  },
  {
   "cell_type": "code",
   "execution_count": 24,
   "metadata": {},
   "outputs": [
    {
     "name": "stdout",
     "output_type": "stream",
     "text": [
      "CPU times: user 4.33 ms, sys: 186 µs, total: 4.52 ms\n",
      "Wall time: 4.48 ms\n"
     ]
    },
    {
     "data": {
      "text/plain": [
       "True"
      ]
     },
     "execution_count": 24,
     "metadata": {},
     "output_type": "execute_result"
    }
   ],
   "source": [
    "%%time\n",
    "solve()"
   ]
  },
  {
   "cell_type": "markdown",
   "metadata": {},
   "source": [
    "### Printing the solved sudoku image"
   ]
  },
  {
   "cell_type": "code",
   "execution_count": 25,
   "metadata": {},
   "outputs": [
    {
     "data": {
      "text/plain": [
       "[[5, 3, 1, 6, 2, 7, 9, 8, 4],\n",
       " [6, 4, 9, 8, 1, 3, 2, 5, 7],\n",
       " [8, 2, 7, 5, 9, 4, 6, 1, 3],\n",
       " [4, 9, 6, 1, 7, 5, 8, 3, 2],\n",
       " [2, 1, 8, 3, 6, 9, 7, 4, 5],\n",
       " [7, 5, 3, 2, 4, 8, 1, 9, 6],\n",
       " [9, 6, 2, 4, 5, 1, 3, 7, 8],\n",
       " [1, 8, 5, 7, 3, 6, 4, 2, 9],\n",
       " [3, 7, 4, 9, 8, 2, 5, 6, 1]]"
      ]
     },
     "execution_count": 25,
     "metadata": {},
     "output_type": "execute_result"
    }
   ],
   "source": [
    "grid"
   ]
  },
  {
   "cell_type": "markdown",
   "metadata": {},
   "source": [
    "### Printing the solved sudoku on the actual image"
   ]
  },
  {
   "cell_type": "code",
   "execution_count": 27,
   "metadata": {},
   "outputs": [
    {
     "data": {
      "text/plain": [
       "True"
      ]
     },
     "execution_count": 27,
     "metadata": {},
     "output_type": "execute_result"
    }
   ],
   "source": [
    "w = int(w_small)\n",
    "h = int(h_small)\n",
    "\n",
    "image5 = image.copy()\n",
    "\n",
    "padding = int(1.5*ratios)\n",
    "\n",
    "font = (2.0 * w_small) / 73 \n",
    "\n",
    "for i in range(9) :\n",
    "    for j in range(9) :\n",
    "        if (grid2[j][i] == 0) :\n",
    "            x_first = x + int(round(i*w_small,3)) \n",
    "            y_first = y + int(round(j*h_small,3)) \n",
    "            \n",
    "            cv2.putText(image5, str(grid[j][i]), (x_first+padding, y_first+int(h_small)-padding), cv2.FONT_HERSHEY_SIMPLEX, font, (0, 0, 255),5)\n",
    "            \n",
    "            \n",
    "display(image5)\n",
    "\n",
    "cv2.imwrite('sample_output.png',image5)"
   ]
  },
  {
   "cell_type": "markdown",
   "metadata": {},
   "source": [
    "### Successfully created the Sudoku-Solver"
   ]
  }
 ],
 "metadata": {
  "kernelspec": {
   "display_name": "Python 3",
   "language": "python",
   "name": "python3"
  },
  "language_info": {
   "codemirror_mode": {
    "name": "ipython",
    "version": 3
   },
   "file_extension": ".py",
   "mimetype": "text/x-python",
   "name": "python",
   "nbconvert_exporter": "python",
   "pygments_lexer": "ipython3",
   "version": "3.6.5"
  }
 },
 "nbformat": 4,
 "nbformat_minor": 2
}
